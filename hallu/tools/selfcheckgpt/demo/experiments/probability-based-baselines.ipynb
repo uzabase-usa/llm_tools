{
 "cells": [
  {
   "cell_type": "code",
   "execution_count": 1,
   "id": "fd24ff19",
   "metadata": {},
   "outputs": [],
   "source": [
    "import pickle\n",
    "import numpy as np\n",
    "from scipy.stats import entropy\n",
    "from tqdm import tqdm\n",
    "from datasets import load_dataset"
   ]
  },
  {
   "cell_type": "markdown",
   "id": "e863a483",
   "metadata": {},
   "source": [
    "## Reading Cached GPT-3 Outputs"
   ]
  },
  {
   "cell_type": "code",
   "execution_count": 2,
   "id": "6bad200f",
   "metadata": {},
   "outputs": [
    {
     "name": "stderr",
     "output_type": "stream",
     "text": [
      "Using custom data configuration potsawee--wiki_bio_gpt3_hallucination-9bba6a0f21f1b815\n",
      "Found cached dataset parquet (/home/pm574/rds/hpc-work/downloads/hf_datasets/potsawee___parquet/potsawee--wiki_bio_gpt3_hallucination-9bba6a0f21f1b815/0.0.0/2a3b91fbd88a2c90d1dbbb32b460cf621d31bd5b05b934492fdef7d8d6f236ec)\n"
     ]
    },
    {
     "data": {
      "application/vnd.jupyter.widget-view+json": {
       "model_id": "205067fa41574abe8e4c1c113a3448dd",
       "version_major": 2,
       "version_minor": 0
      },
      "text/plain": [
       "  0%|          | 0/1 [00:00<?, ?it/s]"
      ]
     },
     "metadata": {},
     "output_type": "display_data"
    }
   ],
   "source": [
    "# indices in WikiBio of the evaluated examples\n",
    "ids = load_dataset(\"potsawee/wiki_bio_gpt3_hallucination\")['evaluation']['wiki_bio_test_idx']"
   ]
  },
  {
   "cell_type": "markdown",
   "id": "dd6cb1c1",
   "metadata": {},
   "source": [
    "For the files below, you could download them at https://drive.google.com/file/d/1t3pJt0o395rdPHK6h6S3s0bxnscQGzK0/view?usp=drive_link "
   ]
  },
  {
   "cell_type": "code",
   "execution_count": 3,
   "id": "4bb0b331",
   "metadata": {},
   "outputs": [],
   "source": [
    "# GPT-3's reponse\n",
    "# response = openai.Completion.create(\n",
    "#     model=\"text-davinci-003\",\n",
    "#     prompt=f\"This is a passage from Wikipedia about {context}:\\n\\n\",\n",
    "#     temperature=temperature, # 0.0 = deterministic\n",
    "#     max_tokens=max_length,\n",
    "#     logprobs=logprobs,\n",
    "# )\n",
    "# type(response.choices[0].text)     => str\n",
    "# type(response.choices[0].logprobs) => openai.openai_object.OpenAIObject\n",
    "\n",
    "responses = {}\n",
    "for idx in ids:\n",
    "    path = f\"/home/pm574/rds/hpc-work/self-consistency/llm_outputs/passage_top_length/gpt3_davinci_003_FEB15_v1_logprob/{idx}.bin\"\n",
    "    with open(path, \"rb\") as f:\n",
    "        response = pickle.load(f)\n",
    "    responses[idx] = response"
   ]
  },
  {
   "cell_type": "markdown",
   "id": "ddca8ce2",
   "metadata": {},
   "source": [
    "## load `wiki_bio_gpt3_hallucination` data"
   ]
  },
  {
   "cell_type": "code",
   "execution_count": 4,
   "id": "452bb95c",
   "metadata": {
    "scrolled": true
   },
   "outputs": [
    {
     "name": "stderr",
     "output_type": "stream",
     "text": [
      "Using custom data configuration potsawee--wiki_bio_gpt3_hallucination-9bba6a0f21f1b815\n",
      "Found cached dataset parquet (/home/pm574/rds/hpc-work/downloads/hf_datasets/potsawee___parquet/potsawee--wiki_bio_gpt3_hallucination-9bba6a0f21f1b815/0.0.0/2a3b91fbd88a2c90d1dbbb32b460cf621d31bd5b05b934492fdef7d8d6f236ec)\n"
     ]
    },
    {
     "data": {
      "application/vnd.jupyter.widget-view+json": {
       "model_id": "c239b12efb424c42bdd1d87e5f71db8a",
       "version_major": 2,
       "version_minor": 0
      },
      "text/plain": [
       "  0%|          | 0/1 [00:00<?, ?it/s]"
      ]
     },
     "metadata": {},
     "output_type": "display_data"
    }
   ],
   "source": [
    "dataset = load_dataset(\"potsawee/wiki_bio_gpt3_hallucination\")\n",
    "dataset = dataset['evaluation']"
   ]
  },
  {
   "cell_type": "code",
   "execution_count": 5,
   "id": "e3a5cfce",
   "metadata": {},
   "outputs": [],
   "source": [
    "label_mapping = {\n",
    "    'accurate': 0.0,\n",
    "    'minor_inaccurate': 0.5,\n",
    "    'major_inaccurate': 1.0,\n",
    "}"
   ]
  },
  {
   "cell_type": "code",
   "execution_count": 6,
   "id": "2ae11066",
   "metadata": {},
   "outputs": [],
   "source": [
    "human_label_detect_False   = {}\n",
    "human_label_detect_False_h = {}\n",
    "human_label_detect_True    = {}\n",
    "for i_ in range(len(dataset)):\n",
    "    dataset_i = dataset[i_]\n",
    "    idx = dataset_i['wiki_bio_test_idx']\n",
    "    raw_label = np.array([label_mapping[x] for x in dataset_i['annotation']])\n",
    "    human_label_detect_False[idx] = (raw_label > 0.499).astype(np.int32).tolist()\n",
    "    human_label_detect_True[idx]  = (raw_label < 0.499).astype(np.int32).tolist()\n",
    "    average_score = np.mean(raw_label)\n",
    "    if average_score < 0.99:\n",
    "        human_label_detect_False_h[idx] = (raw_label > 0.99).astype(np.int32).tolist()"
   ]
  },
  {
   "cell_type": "code",
   "execution_count": 7,
   "id": "1ba31d5b",
   "metadata": {},
   "outputs": [
    {
     "data": {
      "text/plain": [
       "(238, 238, 206)"
      ]
     },
     "execution_count": 7,
     "metadata": {},
     "output_type": "execute_result"
    }
   ],
   "source": [
    "len(human_label_detect_False), len(human_label_detect_True), len(human_label_detect_False_h)"
   ]
  },
  {
   "cell_type": "markdown",
   "id": "d6414d0e",
   "metadata": {},
   "source": [
    "# Experimental Setup"
   ]
  },
  {
   "cell_type": "code",
   "execution_count": 8,
   "id": "77dc4e8a",
   "metadata": {},
   "outputs": [],
   "source": [
    "def unroll_pred(scores, indices):\n",
    "    unrolled = []\n",
    "    for idx in indices:\n",
    "        unrolled.extend(scores[idx])\n",
    "    return unrolled"
   ]
  },
  {
   "cell_type": "code",
   "execution_count": 9,
   "id": "8882add7",
   "metadata": {},
   "outputs": [],
   "source": [
    "def get_PR_with_human_labels(preds, human_labels, pos_label=1, oneminus_pred=False):\n",
    "    indices = [k for k in human_labels.keys()]\n",
    "    unroll_preds = unroll_pred(preds, indices)\n",
    "    if oneminus_pred:\n",
    "        unroll_preds = [1.0-x for x in unroll_preds]\n",
    "    unroll_labels = unroll_pred(human_labels, indices)\n",
    "    assert len(unroll_preds) == len(unroll_labels)\n",
    "    print(\"len:\", len(unroll_preds))\n",
    "    P, R, thre = precision_recall_curve(unroll_labels, unroll_preds, pos_label=pos_label)\n",
    "    return P, R"
   ]
  },
  {
   "cell_type": "code",
   "execution_count": 10,
   "id": "ed1d5662",
   "metadata": {},
   "outputs": [],
   "source": [
    "def print_AUC(P, R):\n",
    "    print(\"AUC: {:.2f}\".format(auc(R, P)*100))"
   ]
  },
  {
   "cell_type": "code",
   "execution_count": 11,
   "id": "becd0b2b",
   "metadata": {},
   "outputs": [],
   "source": [
    "baseline1_scores = {} # average_logprob\n",
    "baseline2_scores = {} # lowest_logprob\n",
    "baseline3_scores = {} # average_entropy5\n",
    "baseline4_scores = {} # highest_entropy5"
   ]
  },
  {
   "cell_type": "code",
   "execution_count": 12,
   "id": "726b30b5",
   "metadata": {},
   "outputs": [
    {
     "name": "stderr",
     "output_type": "stream",
     "text": [
      "100%|█████████████████████████████████████████████████████████████████████████████████████████████████████████████████████████████████████████████████████████████████| 238/238 [00:01<00:00, 206.39it/s]\n"
     ]
    }
   ],
   "source": [
    "for i_ in tqdm(range(len(dataset))):\n",
    "    dataset_i = dataset[i_]\n",
    "    idx = dataset_i['wiki_bio_test_idx']\n",
    "    sentences = dataset_i['gpt3_sentences']\n",
    "    num_sentences = len(sentences)\n",
    "    \n",
    "    # from the cache\n",
    "    passage = responses[idx].choices[0].text\n",
    "    tokens = responses[idx].choices[0].logprobs.tokens\n",
    "    token_logprobs = responses[idx].choices[0].logprobs.token_logprobs\n",
    "    top_logprobs = responses[idx].choices[0].logprobs.top_logprobs\n",
    "    \n",
    "    average_logprob_sent_level = [None for _ in range(num_sentences)]\n",
    "    lowest_logprob_sent_level = [None for _ in range(num_sentences)]\n",
    "    average_entropy5_sent_level = [None for _ in range(num_sentences)]\n",
    "    highest_entropy5_sent_level = [None for _ in range(num_sentences)]\n",
    "        \n",
    "    for sent_i, sentence in enumerate(sentences):\n",
    "        # sentence exist in the passage, so we need to find where it is [i1, i2]\n",
    "        xarr = [i for i in range(len(tokens))]\n",
    "        for i1 in xarr:\n",
    "            mystring = \"\".join(tokens[i1:])\n",
    "            if sentence not in mystring:\n",
    "                break\n",
    "        i1 = i1 - 1\n",
    "        for i2 in xarr[::-1]:\n",
    "            mystring = \"\".join(tokens[i1:i2+1])\n",
    "            if sentence not in mystring:\n",
    "                break\n",
    "        i2 = i2 + 1\n",
    "        mystring = \"\".join(tokens[i1:i2+1])\n",
    "        average_logprob = np.mean(token_logprobs[i1:i2+1])\n",
    "        lowest_logprob  = np.min(token_logprobs[i1:i2+1])\n",
    "        entropy5s = []\n",
    "        for top5_tokens in top_logprobs[i1:i2+1]:\n",
    "            logprob_of_top5_tokens = [x[1] for x in list(top5_tokens.items())]\n",
    "            logprob_of_top5_tokens = np.array(logprob_of_top5_tokens)\n",
    "            prob_of_top5_tokens = np.exp(logprob_of_top5_tokens)\n",
    "            total_prob_of_top5 = prob_of_top5_tokens.sum()\n",
    "            normalized_prob = prob_of_top5_tokens / total_prob_of_top5\n",
    "            # this was designed to be PPL, and intial results showed a better performance level than just entropy\n",
    "            entropy5 = 2**(entropy(normalized_prob, base=2)) \n",
    "            entropy5s.append(entropy5)\n",
    "        average_entropy5 = np.mean(entropy5s)\n",
    "        highest_entropy5 = np.max(entropy5s)\n",
    "\n",
    "        average_logprob_sent_level[sent_i] = average_logprob\n",
    "        lowest_logprob_sent_level[sent_i] = lowest_logprob\n",
    "        average_entropy5_sent_level[sent_i] = average_entropy5\n",
    "        highest_entropy5_sent_level[sent_i] = highest_entropy5\n",
    "\n",
    "    baseline1_scores[idx] = average_logprob_sent_level\n",
    "    baseline2_scores[idx] = average_entropy5_sent_level\n",
    "    baseline3_scores[idx] = lowest_logprob_sent_level\n",
    "    baseline4_scores[idx] = highest_entropy5_sent_level"
   ]
  },
  {
   "cell_type": "markdown",
   "id": "f205c702",
   "metadata": {},
   "source": [
    "## Experiment1: Detecting False"
   ]
  },
  {
   "cell_type": "code",
   "execution_count": 13,
   "id": "935890c4",
   "metadata": {},
   "outputs": [],
   "source": [
    "from sklearn.metrics import precision_recall_curve, auc\n",
    "import matplotlib.pyplot as plt"
   ]
  },
  {
   "cell_type": "code",
   "execution_count": 14,
   "id": "af27f9e3",
   "metadata": {},
   "outputs": [
    {
     "name": "stdout",
     "output_type": "stream",
     "text": [
      "len: 1908\n",
      "len: 1908\n",
      "len: 1908\n",
      "len: 1908\n",
      "-----------------------\n",
      "Baseline1: Avg(logP)\n",
      "AUC: 83.21\n",
      "-----------------------\n",
      "Baseline2: Avg(H)\n",
      "AUC: 80.73\n",
      "-----------------------\n",
      "Baseline3: Max(-logP)\n",
      "AUC: 87.51\n",
      "-----------------------\n",
      "Baseline4: Max(H)\n",
      "AUC: 85.75\n"
     ]
    }
   ],
   "source": [
    "# with human label, Detecting False\n",
    "Pb1, Rb1 = get_PR_with_human_labels(baseline1_scores, human_label_detect_False, pos_label=1, oneminus_pred=True)\n",
    "Pb2, Rb2 = get_PR_with_human_labels(baseline2_scores, human_label_detect_False, pos_label=1)\n",
    "Pb3, Rb3 = get_PR_with_human_labels(baseline3_scores, human_label_detect_False, pos_label=1, oneminus_pred=True)\n",
    "Pb4, Rb4 = get_PR_with_human_labels(baseline4_scores, human_label_detect_False, pos_label=1)\n",
    "print(\"-----------------------\")\n",
    "print(\"Baseline1: Avg(logP)\")\n",
    "print_AUC(Pb1, Rb1)\n",
    "print(\"-----------------------\")\n",
    "print(\"Baseline2: Avg(H)\")\n",
    "print_AUC(Pb2, Rb2)\n",
    "print(\"-----------------------\")\n",
    "print(\"Baseline3: Max(-logP)\")\n",
    "print_AUC(Pb3, Rb3)\n",
    "print(\"-----------------------\")\n",
    "print(\"Baseline4: Max(H)\")\n",
    "print_AUC(Pb4, Rb4)"
   ]
  },
  {
   "cell_type": "code",
   "execution_count": 15,
   "id": "04173dcb",
   "metadata": {},
   "outputs": [
    {
     "data": {
      "text/plain": [
       "0.7295597484276729"
      ]
     },
     "execution_count": 15,
     "metadata": {},
     "output_type": "execute_result"
    }
   ],
   "source": [
    "arr = []\n",
    "for v in human_label_detect_False.values():\n",
    "    arr.extend(v)\n",
    "random_baseline = np.mean(arr)\n",
    "random_baseline"
   ]
  },
  {
   "cell_type": "code",
   "execution_count": 16,
   "id": "021d80df",
   "metadata": {},
   "outputs": [
    {
     "data": {
      "text/plain": [
       "Text(0.5, 0, 'Recall')"
      ]
     },
     "execution_count": 16,
     "metadata": {},
     "output_type": "execute_result"
    },
    {
     "data": {
      "image/png": "[encoded data removed]",
      "text/plain": [
       "<Figure size 396x324 with 1 Axes>"
      ]
     },
     "metadata": {
      "needs_background": "light"
     },
     "output_type": "display_data"
    }
   ],
   "source": [
    "# with human label, Detecting Non-factual\n",
    "plt.figure(figsize=(5.5, 4.5))\n",
    "plt.hlines(y=random_baseline, xmin=0, xmax=1.0, color='grey', linestyles='dotted', label='Random') \n",
    "plt.plot(Rb1, Pb1, '-', label='Avg(logP)')\n",
    "plt.plot(Rb2, Pb2, '-', label='Avg(H)')\n",
    "plt.plot(Rb3, Pb3, '-', label='Max(-logP)')\n",
    "plt.plot(Rb4, Pb4, '-', label='Max(H)')\n",
    "plt.legend()\n",
    "plt.ylim(0.7,1.02)\n",
    "plt.ylabel(\"Precision\")\n",
    "plt.xlabel(\"Recall\")"
   ]
  },
  {
   "cell_type": "markdown",
   "id": "263cab97",
   "metadata": {},
   "source": [
    "## Experiment2: Detect False* (harder/less-trivial)"
   ]
  },
  {
   "cell_type": "code",
   "execution_count": 17,
   "id": "da8388a1",
   "metadata": {},
   "outputs": [
    {
     "name": "stdout",
     "output_type": "stream",
     "text": [
      "len: 1632\n",
      "len: 1632\n",
      "len: 1632\n",
      "len: 1632\n",
      "-----------------------\n",
      "Baseline1: Avg(logP)\n",
      "AUC: 38.89\n",
      "-----------------------\n",
      "Baseline2: Avg(H)\n",
      "AUC: 37.09\n",
      "-----------------------\n",
      "Baseline3: Max(-logP)\n",
      "AUC: 35.88\n",
      "-----------------------\n",
      "Baseline4: Max(H)\n",
      "AUC: 32.43\n"
     ]
    }
   ],
   "source": [
    "# with human label, Detecting False\n",
    "Pb1, Rb1 = get_PR_with_human_labels(baseline1_scores, human_label_detect_False_h, pos_label=1, oneminus_pred=True)\n",
    "Pb2, Rb2 = get_PR_with_human_labels(baseline2_scores, human_label_detect_False_h, pos_label=1)\n",
    "Pb3, Rb3 = get_PR_with_human_labels(baseline3_scores, human_label_detect_False_h, pos_label=1, oneminus_pred=True)\n",
    "Pb4, Rb4 = get_PR_with_human_labels(baseline4_scores, human_label_detect_False_h, pos_label=1)\n",
    "print(\"-----------------------\")\n",
    "print(\"Baseline1: Avg(logP)\")\n",
    "print_AUC(Pb1, Rb1)\n",
    "print(\"-----------------------\")\n",
    "print(\"Baseline2: Avg(H)\")\n",
    "print_AUC(Pb2, Rb2)\n",
    "print(\"-----------------------\")\n",
    "print(\"Baseline3: Max(-logP)\")\n",
    "print_AUC(Pb3, Rb3)\n",
    "print(\"-----------------------\")\n",
    "print(\"Baseline4: Max(H)\")\n",
    "print_AUC(Pb4, Rb4)"
   ]
  },
  {
   "cell_type": "code",
   "execution_count": 18,
   "id": "63ae5415",
   "metadata": {},
   "outputs": [
    {
     "data": {
      "text/plain": [
       "0.2971813725490196"
      ]
     },
     "execution_count": 18,
     "metadata": {},
     "output_type": "execute_result"
    }
   ],
   "source": [
    "arr = []\n",
    "for v in human_label_detect_False_h.values():\n",
    "    arr.extend(v)\n",
    "random_baseline = np.mean(arr)\n",
    "random_baseline"
   ]
  },
  {
   "cell_type": "code",
   "execution_count": 19,
   "id": "7e6e01d9",
   "metadata": {},
   "outputs": [
    {
     "data": {
      "text/plain": [
       "Text(0.5, 0, 'Recall')"
      ]
     },
     "execution_count": 19,
     "metadata": {},
     "output_type": "execute_result"
    },
    {
     "data": {
      "image/png": "[encoded data removed]",
      "text/plain": [
       "<Figure size 396x324 with 1 Axes>"
      ]
     },
     "metadata": {
      "needs_background": "light"
     },
     "output_type": "display_data"
    }
   ],
   "source": [
    "# with human label, Detecting Non-factual*\n",
    "plt.figure(figsize=(5.5, 4.5))\n",
    "plt.hlines(y=random_baseline, xmin=0, xmax=1.0, color='grey', linestyles='dotted', label='Random') \n",
    "plt.plot(Rb1, Pb1, '-', label='Avg(logP)')\n",
    "plt.plot(Rb2, Pb2, '-', label='Avg(H)')\n",
    "plt.plot(Rb3, Pb3, '-', label='Max(-logP)')\n",
    "plt.plot(Rb4, Pb4, '-', label='Max(H)')\n",
    "plt.legend()\n",
    "plt.ylabel(\"Precision\")\n",
    "plt.xlabel(\"Recall\")"
   ]
  },
  {
   "cell_type": "markdown",
   "id": "4d660a81",
   "metadata": {},
   "source": [
    "## Experiment3: Detecting True"
   ]
  },
  {
   "cell_type": "code",
   "execution_count": 20,
   "id": "9fd5a85b",
   "metadata": {},
   "outputs": [
    {
     "name": "stdout",
     "output_type": "stream",
     "text": [
      "len: 1908\n",
      "len: 1908\n",
      "len: 1908\n",
      "len: 1908\n",
      "-----------------------\n",
      "Baseline1: Avg(logP)\n",
      "AUC: 53.97\n",
      "-----------------------\n",
      "Baseline2: Avg(H)\n",
      "AUC: 52.07\n",
      "-----------------------\n",
      "Baseline3: Max(-logP)\n",
      "AUC: 50.46\n",
      "-----------------------\n",
      "Baseline4: Max(H)\n",
      "AUC: 50.27\n"
     ]
    }
   ],
   "source": [
    "# with human label, Detecting True\n",
    "Pb1, Rb1 = get_PR_with_human_labels(baseline1_scores, human_label_detect_True, pos_label=1, oneminus_pred=False)\n",
    "Pb2, Rb2 = get_PR_with_human_labels(baseline2_scores, human_label_detect_True, pos_label=1, oneminus_pred=True)\n",
    "Pb3, Rb3 = get_PR_with_human_labels(baseline3_scores, human_label_detect_True, pos_label=1, oneminus_pred=False)\n",
    "Pb4, Rb4 = get_PR_with_human_labels(baseline4_scores, human_label_detect_True, pos_label=1, oneminus_pred=True)\n",
    "print(\"-----------------------\")\n",
    "print(\"Baseline1: Avg(logP)\")\n",
    "print_AUC(Pb1, Rb1)\n",
    "print(\"-----------------------\")\n",
    "print(\"Baseline2: Avg(H)\")\n",
    "print_AUC(Pb2, Rb2)\n",
    "print(\"-----------------------\")\n",
    "print(\"Baseline3: Max(-logP)\")\n",
    "print_AUC(Pb3, Rb3)\n",
    "print(\"-----------------------\")\n",
    "print(\"Baseline4: Max(H)\")\n",
    "print_AUC(Pb4, Rb4)"
   ]
  },
  {
   "cell_type": "code",
   "execution_count": 21,
   "id": "5de7c978",
   "metadata": {},
   "outputs": [
    {
     "data": {
      "text/plain": [
       "0.27044025157232704"
      ]
     },
     "execution_count": 21,
     "metadata": {},
     "output_type": "execute_result"
    }
   ],
   "source": [
    "arr = []\n",
    "for v in human_label_detect_True.values():\n",
    "    arr.extend(v)\n",
    "random_baseline = np.mean(arr)\n",
    "random_baseline"
   ]
  },
  {
   "cell_type": "code",
   "execution_count": 22,
   "id": "709d02e1",
   "metadata": {},
   "outputs": [
    {
     "data": {
      "text/plain": [
       "Text(0.5, 0, 'Recall')"
      ]
     },
     "execution_count": 22,
     "metadata": {},
     "output_type": "execute_result"
    },
    {
     "data": {
      "image/png": "[encoded data removed]",
      "text/plain": [
       "<Figure size 396x324 with 1 Axes>"
      ]
     },
     "metadata": {
      "needs_background": "light"
     },
     "output_type": "display_data"
    }
   ],
   "source": [
    "# with human label, Detecting Non-factual*\n",
    "plt.figure(figsize=(5.5, 4.5))\n",
    "plt.hlines(y=random_baseline, xmin=0, xmax=1.0, color='grey', linestyles='dotted', label='Random') \n",
    "plt.plot(Rb1, Pb1, '-', label='Avg(logP)')\n",
    "plt.plot(Rb2, Pb2, '-', label='Avg(H)')\n",
    "plt.plot(Rb3, Pb3, '-', label='Max(-logP)')\n",
    "plt.plot(Rb4, Pb4, '-', label='Max(H)')\n",
    "plt.legend()\n",
    "plt.ylabel(\"Precision\")\n",
    "plt.xlabel(\"Recall\")"
   ]
  }
 ],
 "metadata": {
  "kernelspec": {
   "display_name": "Python 3 (ipykernel)",
   "language": "python",
   "name": "python3"
  },
  "language_info": {
   "codemirror_mode": {
    "name": "ipython",
    "version": 3
   },
   "file_extension": ".py",
   "mimetype": "text/x-python",
   "name": "python",
   "nbconvert_exporter": "python",
   "pygments_lexer": "ipython3",
   "version": "3.8.13"
  }
 },
 "nbformat": 4,
 "nbformat_minor": 5
}
