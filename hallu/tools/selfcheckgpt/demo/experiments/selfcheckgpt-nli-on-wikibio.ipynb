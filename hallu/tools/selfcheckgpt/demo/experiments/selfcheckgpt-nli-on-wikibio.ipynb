{
 "cells": [
  {
   "cell_type": "code",
   "execution_count": 1,
   "id": "fd24ff19",
   "metadata": {},
   "outputs": [
    {
     "name": "stderr",
     "output_type": "stream",
     "text": [
      "/data/miniconda3/envs/exp-punpun0/lib/python3.9/site-packages/tqdm/auto.py:21: TqdmWarning: IProgress not found. Please update jupyter and ipywidgets. See https://ipywidgets.readthedocs.io/en/stable/user_install.html\n",
      "  from .autonotebook import tqdm as notebook_tqdm\n"
     ]
    }
   ],
   "source": [
    "import pickle\n",
    "import numpy as np\n",
    "from scipy.stats import entropy\n",
    "from tqdm import tqdm\n",
    "from datasets import load_dataset"
   ]
  },
  {
   "cell_type": "markdown",
   "id": "7fd0dde9-a886-4484-8d8d-7243f81126ae",
   "metadata": {},
   "source": [
    "# SelfCheckGPT\n",
    "- NLI variant (fast)"
   ]
  },
  {
   "cell_type": "code",
   "execution_count": 2,
   "id": "e9e52003-ec6e-40ba-92c6-f7ad5f0905e7",
   "metadata": {},
   "outputs": [
    {
     "name": "stderr",
     "output_type": "stream",
     "text": [
      "/data/miniconda3/envs/exp-punpun0/lib/python3.9/site-packages/transformers/utils/hub.py:124: FutureWarning: Using `TRANSFORMERS_CACHE` is deprecated and will be removed in v5 of Transformers. Use `HF_HOME` instead.\n",
      "  warnings.warn(\n"
     ]
    }
   ],
   "source": [
    "import torch\n",
    "from selfcheckgpt.modeling_selfcheck import SelfCheckNLI"
   ]
  },
  {
   "cell_type": "code",
   "execution_count": 3,
   "id": "b2baecc7-57e7-45be-a5f5-aa5d22cd4499",
   "metadata": {},
   "outputs": [
    {
     "name": "stdout",
     "output_type": "stream",
     "text": [
      "cuda\n"
     ]
    }
   ],
   "source": [
    "device = torch.device(\"cuda\" if torch.cuda.is_available() else \"cpu\")\n",
    "print(device)"
   ]
  },
  {
   "cell_type": "code",
   "execution_count": 4,
   "id": "f117b6a2-dc46-4ac4-8a45-1c21becbf5a4",
   "metadata": {},
   "outputs": [
    {
     "name": "stdout",
     "output_type": "stream",
     "text": [
      "SelfCheck-NLI initialized to device cuda\n"
     ]
    }
   ],
   "source": [
    "selfcheck = SelfCheckNLI(device=device)"
   ]
  },
  {
   "cell_type": "markdown",
   "id": "ddca8ce2",
   "metadata": {},
   "source": [
    "## load `wiki_bio_gpt3_hallucination` data"
   ]
  },
  {
   "cell_type": "code",
   "execution_count": 5,
   "id": "452bb95c",
   "metadata": {
    "scrolled": true
   },
   "outputs": [],
   "source": [
    "dataset = load_dataset(\"potsawee/wiki_bio_gpt3_hallucination\")\n",
    "dataset = dataset['evaluation']"
   ]
  },
  {
   "cell_type": "code",
   "execution_count": 6,
   "id": "e3a5cfce",
   "metadata": {},
   "outputs": [],
   "source": [
    "label_mapping = {\n",
    "    'accurate': 0.0,\n",
    "    'minor_inaccurate': 0.5,\n",
    "    'major_inaccurate': 1.0,\n",
    "}"
   ]
  },
  {
   "cell_type": "code",
   "execution_count": 7,
   "id": "2ae11066",
   "metadata": {},
   "outputs": [],
   "source": [
    "human_label_detect_False   = {}\n",
    "human_label_detect_False_h = {}\n",
    "human_label_detect_True    = {}\n",
    "for i_ in range(len(dataset)):\n",
    "    dataset_i = dataset[i_]\n",
    "    idx = dataset_i['wiki_bio_test_idx']\n",
    "    raw_label = np.array([label_mapping[x] for x in dataset_i['annotation']])\n",
    "    human_label_detect_False[idx] = (raw_label > 0.499).astype(np.int32).tolist()\n",
    "    human_label_detect_True[idx]  = (raw_label < 0.499).astype(np.int32).tolist()\n",
    "    average_score = np.mean(raw_label)\n",
    "    if average_score < 0.99:\n",
    "        human_label_detect_False_h[idx] = (raw_label > 0.99).astype(np.int32).tolist()"
   ]
  },
  {
   "cell_type": "code",
   "execution_count": 8,
   "id": "1ba31d5b",
   "metadata": {},
   "outputs": [
    {
     "data": {
      "text/plain": [
       "(238, 238, 206)"
      ]
     },
     "execution_count": 8,
     "metadata": {},
     "output_type": "execute_result"
    }
   ],
   "source": [
    "len(human_label_detect_False), len(human_label_detect_True), len(human_label_detect_False_h)"
   ]
  },
  {
   "cell_type": "markdown",
   "id": "d6414d0e",
   "metadata": {},
   "source": [
    "# Experimental Setup"
   ]
  },
  {
   "cell_type": "code",
   "execution_count": 9,
   "id": "77dc4e8a",
   "metadata": {},
   "outputs": [],
   "source": [
    "def unroll_pred(scores, indices):\n",
    "    unrolled = []\n",
    "    for idx in indices:\n",
    "        unrolled.extend(scores[idx])\n",
    "    return unrolled"
   ]
  },
  {
   "cell_type": "code",
   "execution_count": 10,
   "id": "8882add7",
   "metadata": {},
   "outputs": [],
   "source": [
    "def get_PR_with_human_labels(preds, human_labels, pos_label=1, oneminus_pred=False):\n",
    "    indices = [k for k in human_labels.keys()]\n",
    "    unroll_preds = unroll_pred(preds, indices)\n",
    "    if oneminus_pred:\n",
    "        unroll_preds = [1.0-x for x in unroll_preds]\n",
    "    unroll_labels = unroll_pred(human_labels, indices)\n",
    "    assert len(unroll_preds) == len(unroll_labels)\n",
    "    print(\"len:\", len(unroll_preds))\n",
    "    P, R, thre = precision_recall_curve(unroll_labels, unroll_preds, pos_label=pos_label)\n",
    "    return P, R"
   ]
  },
  {
   "cell_type": "code",
   "execution_count": 11,
   "id": "ed1d5662",
   "metadata": {},
   "outputs": [],
   "source": [
    "def print_AUC(P, R):\n",
    "    print(\"AUC: {:.2f}\".format(auc(R, P)*100))"
   ]
  },
  {
   "cell_type": "code",
   "execution_count": 12,
   "id": "715545bd-949b-4950-a516-1890401487b6",
   "metadata": {},
   "outputs": [],
   "source": [
    "indices = [x['wiki_bio_test_idx'] for x in dataset] "
   ]
  },
  {
   "cell_type": "code",
   "execution_count": 13,
   "id": "726b30b5",
   "metadata": {},
   "outputs": [
    {
     "name": "stderr",
     "output_type": "stream",
     "text": [
      "100%|███████████████████████████████████████████████████████████████████████████████████████████████████████████████████████████████████████████████████| 238/238 [11:09<00:00,  2.81s/it]\n"
     ]
    }
   ],
   "source": [
    "selfcheck_scores = {} # sentence-level scores\n",
    "for i in tqdm(range(len(dataset))):\n",
    "    x = dataset[i]\n",
    "    idx = dataset[i]['wiki_bio_test_idx']\n",
    "    selfcheck_scores[idx] = selfcheck.predict(\n",
    "        sentences = x['gpt3_sentences'],           # list of sentences\n",
    "        sampled_passages = x['gpt3_text_samples'], # list of sampled passages\n",
    "    ).tolist()"
   ]
  },
  {
   "cell_type": "markdown",
   "id": "f205c702",
   "metadata": {},
   "source": [
    "## Experiment1: Detecting False"
   ]
  },
  {
   "cell_type": "code",
   "execution_count": 14,
   "id": "935890c4",
   "metadata": {},
   "outputs": [],
   "source": [
    "from sklearn.metrics import precision_recall_curve, auc\n",
    "import matplotlib.pyplot as plt"
   ]
  },
  {
   "cell_type": "code",
   "execution_count": 15,
   "id": "af27f9e3",
   "metadata": {},
   "outputs": [
    {
     "name": "stdout",
     "output_type": "stream",
     "text": [
      "len: 1908\n",
      "-----------------------\n",
      "SelfCheckGPT-NLI on WikiBio\n",
      "AUC: 92.50\n"
     ]
    }
   ],
   "source": [
    "# with human label, Detecting False\n",
    "Prec, Rec = get_PR_with_human_labels(selfcheck_scores, human_label_detect_False, pos_label=1)\n",
    "print(\"-----------------------\")\n",
    "print(\"SelfCheckGPT-NLI on WikiBio\")\n",
    "print_AUC(Prec, Rec)"
   ]
  },
  {
   "cell_type": "code",
   "execution_count": 16,
   "id": "04173dcb",
   "metadata": {},
   "outputs": [
    {
     "data": {
      "text/plain": [
       "0.7295597484276729"
      ]
     },
     "execution_count": 16,
     "metadata": {},
     "output_type": "execute_result"
    }
   ],
   "source": [
    "arr = []\n",
    "for v in human_label_detect_False.values():\n",
    "    arr.extend(v)\n",
    "random_baseline = np.mean(arr)\n",
    "random_baseline"
   ]
  },
  {
   "cell_type": "code",
   "execution_count": 17,
   "id": "021d80df",
   "metadata": {},
   "outputs": [
    {
     "data": {
      "text/plain": [
       "Text(0.5, 0, 'Recall')"
      ]
     },
     "execution_count": 17,
     "metadata": {},
     "output_type": "execute_result"
    },
    {
     "data": {
      "image/png": "[encoded data removed]",
      "text/plain": [
       "<Figure size 550x450 with 1 Axes>"
      ]
     },
     "metadata": {},
     "output_type": "display_data"
    }
   ],
   "source": [
    "# with human label, Detecting Non-factual\n",
    "plt.figure(figsize=(5.5, 4.5))\n",
    "plt.hlines(y=random_baseline, xmin=0, xmax=1.0, color='grey', linestyles='dotted', label='Random Guessing') \n",
    "plt.plot(Rec, Prec, '-', label='SelfCheckGPT-NLI')\n",
    "plt.legend()\n",
    "plt.ylim(0.7,1.02)\n",
    "plt.ylabel(\"Precision\")\n",
    "plt.xlabel(\"Recall\")"
   ]
  },
  {
   "cell_type": "markdown",
   "id": "263cab97",
   "metadata": {},
   "source": [
    "## Experiment2: Detect False* (harder/less-trivial)"
   ]
  },
  {
   "cell_type": "code",
   "execution_count": 18,
   "id": "da8388a1",
   "metadata": {},
   "outputs": [
    {
     "name": "stdout",
     "output_type": "stream",
     "text": [
      "len: 1632\n",
      "-----------------------\n",
      "SelfCheckGPT-NLI on WikiBio\n",
      "AUC: 45.17\n"
     ]
    }
   ],
   "source": [
    "# with human label, Detecting False\n",
    "Prec, Rec = get_PR_with_human_labels(selfcheck_scores, human_label_detect_False_h, pos_label=1)\n",
    "print(\"-----------------------\")\n",
    "print(\"SelfCheckGPT-NLI on WikiBio\")\n",
    "print_AUC(Prec, Rec)"
   ]
  },
  {
   "cell_type": "code",
   "execution_count": 19,
   "id": "63ae5415",
   "metadata": {},
   "outputs": [
    {
     "data": {
      "text/plain": [
       "0.2971813725490196"
      ]
     },
     "execution_count": 19,
     "metadata": {},
     "output_type": "execute_result"
    }
   ],
   "source": [
    "arr = []\n",
    "for v in human_label_detect_False_h.values():\n",
    "    arr.extend(v)\n",
    "random_baseline = np.mean(arr)\n",
    "random_baseline"
   ]
  },
  {
   "cell_type": "code",
   "execution_count": 20,
   "id": "7e6e01d9",
   "metadata": {},
   "outputs": [
    {
     "data": {
      "text/plain": [
       "Text(0.5, 0, 'Recall')"
      ]
     },
     "execution_count": 20,
     "metadata": {},
     "output_type": "execute_result"
    },
    {
     "data": {
      "image/png": "[encoded data removed]",
      "text/plain": [
       "<Figure size 550x450 with 1 Axes>"
      ]
     },
     "metadata": {},
     "output_type": "display_data"
    }
   ],
   "source": [
    "# with human label, Detecting Non-factual*\n",
    "plt.figure(figsize=(5.5, 4.5))\n",
    "plt.hlines(y=random_baseline, xmin=0, xmax=1.0, color='grey', linestyles='dotted', label='Random Guessing') \n",
    "plt.plot(Rec, Prec, '-', label='SelfCheckGPT-NLI')\n",
    "plt.legend()\n",
    "plt.ylabel(\"Precision\")\n",
    "plt.xlabel(\"Recall\")"
   ]
  },
  {
   "cell_type": "markdown",
   "id": "4d660a81",
   "metadata": {},
   "source": [
    "## Experiment3: Detecting True"
   ]
  },
  {
   "cell_type": "code",
   "execution_count": 21,
   "id": "9fd5a85b",
   "metadata": {},
   "outputs": [
    {
     "name": "stdout",
     "output_type": "stream",
     "text": [
      "len: 1908\n",
      "-----------------------\n",
      "SelfCheckGPT-NLI on WikiBio\n",
      "AUC: 66.08\n"
     ]
    }
   ],
   "source": [
    "# with human label, Detecting True\n",
    "Prec, Rec = get_PR_with_human_labels(selfcheck_scores, human_label_detect_True, pos_label=1, oneminus_pred=True)\n",
    "print(\"-----------------------\")\n",
    "print(\"SelfCheckGPT-NLI on WikiBio\")\n",
    "print_AUC(Prec, Rec)"
   ]
  },
  {
   "cell_type": "code",
   "execution_count": 22,
   "id": "5de7c978",
   "metadata": {},
   "outputs": [
    {
     "data": {
      "text/plain": [
       "0.27044025157232704"
      ]
     },
     "execution_count": 22,
     "metadata": {},
     "output_type": "execute_result"
    }
   ],
   "source": [
    "arr = []\n",
    "for v in human_label_detect_True.values():\n",
    "    arr.extend(v)\n",
    "random_baseline = np.mean(arr)\n",
    "random_baseline"
   ]
  },
  {
   "cell_type": "code",
   "execution_count": 23,
   "id": "709d02e1",
   "metadata": {},
   "outputs": [
    {
     "data": {
      "text/plain": [
       "Text(0.5, 0, 'Recall')"
      ]
     },
     "execution_count": 23,
     "metadata": {},
     "output_type": "execute_result"
    },
    {
     "data": {
      "image/png": "[encoded data removed]",
      "text/plain": [
       "<Figure size 550x450 with 1 Axes>"
      ]
     },
     "metadata": {},
     "output_type": "display_data"
    }
   ],
   "source": [
    "# with human label, Detecting Non-factual*\n",
    "plt.figure(figsize=(5.5, 4.5))\n",
    "plt.hlines(y=random_baseline, xmin=0, xmax=1.0, color='grey', linestyles='dotted', label='Random Guessing') \n",
    "plt.plot(Rec, Prec, '-', label='SelfCheckGPT-NLI')\n",
    "plt.legend()\n",
    "plt.ylabel(\"Precision\")\n",
    "plt.xlabel(\"Recall\")"
   ]
  }
 ],
 "metadata": {
  "kernelspec": {
   "display_name": "Python 3 (ipykernel)",
   "language": "python",
   "name": "python3"
  },
  "language_info": {
   "codemirror_mode": {
    "name": "ipython",
    "version": 3
   },
   "file_extension": ".py",
   "mimetype": "text/x-python",
   "name": "python",
   "nbconvert_exporter": "python",
   "pygments_lexer": "ipython3",
   "version": "3.9.19"
  }
 },
 "nbformat": 4,
 "nbformat_minor": 5
}
