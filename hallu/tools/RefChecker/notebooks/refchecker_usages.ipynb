{
 "cells": [
  {
   "cell_type": "code",
   "execution_count": 1,
   "metadata": {},
   "outputs": [],
   "source": [
    "import os\n",
    "\n",
    "# Modify the following values accordingly\n",
    "os.environ[\"AWS_ACCESS_KEY_ID\"] = \"<your_aws_access_key_id>\"\n",
    "os.environ[\"AWS_SECRET_ACCESS_KEY\"] = \"<your_aws_secret_access_key>\"\n",
    "os.environ[\"AWS_REGION_NAME\"] = \"<your_aws_region_name>\"\n",
    "\n",
    "\n",
    "question = \"\"\"What's the longest river in the world?\"\"\"\n",
    "\n",
    "response1 = \"\"\"\n",
    "The longest river in the world is the Nile River, located in northeastern Africa. \n",
    "It stretches for approximately 6,853 kilometers (4,258 miles) from its sources in Burundi, Rwanda, and Tanzania to its delta on the Mediterranean Sea in Egypt.\n",
    "\"\"\"\n",
    "\n",
    "response2 = \"\"\"\n",
    "The longest river in the world is the Nile River. \n",
    "It flows northward through northeastern Africa for approximately 6,650 kilometers (4,132 miles) from its most distant source in the African Great Lakes region to the Mediterranean Sea.\n",
    "\"\"\"\n",
    "\n",
    "reference = \"\"\"\n",
    "The Nile is a major north-flowing river in northeastern Africa. \n",
    "It flows into the Mediterranean Sea. The Nile is the longest river in Africa and has historically been considered the longest river in the world, though this has been contested by research suggesting that the Amazon River is slightly longer. \n",
    "Of the world's major rivers, the Nile is one of the smallest, as measured by annual flow in cubic metres of water. \n",
    "About 6,650 km (4,130 mi) long, its drainage basin covers eleven countries: the Democratic Republic of the Congo, Tanzania, Burundi, Rwanda, Uganda, Kenya, Ethiopia, Eritrea, South Sudan, Sudan, and Egypt. \n",
    "In particular, the Nile is the primary water source of Egypt, Sudan and South Sudan. \n",
    "Additionally, the Nile is an important economic river, supporting agriculture and fishing.\n",
    "\"\"\""
   ]
  },
  {
   "cell_type": "code",
   "execution_count": 2,
   "metadata": {},
   "outputs": [
    {
     "name": "stdout",
     "output_type": "stream",
     "text": [
      "Warning: scikit-learn-intelex not installed, sklearn acceleration for the RepC checker is not enabled.\n"
     ]
    },
    {
     "name": "stderr",
     "output_type": "stream",
     "text": [
      "100%|██████████| 1/1 [00:02<00:00,  2.80s/it]"
     ]
    },
    {
     "name": "stdout",
     "output_type": "stream",
     "text": [
      "Claims in Response 1:\n",
      "['The longest river in the world', 'is', 'the Nile River']\n",
      "['The Nile River', 'located in', 'northeastern Africa']\n",
      "['The Nile River', 'stretches for', 'approximately 6,853 kilometers (4,258 miles)']\n",
      "['The Nile River', 'has sources in', 'Burundi']\n",
      "['The Nile River', 'has sources in', 'Rwanda']\n",
      "['The Nile River', 'has sources in', 'Tanzania']\n",
      "['The Nile River', 'has delta on', 'the Mediterranean Sea']\n",
      "['The Nile River delta', 'located in', 'Egypt']\n",
      "----\n",
      "Claims in Response 2:\n",
      "['The longest river in the world', 'is', 'the Nile River']\n",
      "['the Nile River', 'flows', 'northward']\n",
      "['the Nile River', 'flows through', 'northeastern Africa']\n",
      "['the Nile River', 'has length of approximately', '6,650 kilometers (4,132 miles)']\n",
      "['the Nile River', 'originates from', 'its most distant source in the African Great Lakes region']\n",
      "['the Nile River', 'ends at', 'the Mediterranean Sea']\n",
      "['the African Great Lakes region', 'is source of', 'the Nile River']\n",
      "['the Mediterranean Sea', 'is destination of', 'the Nile River']\n",
      "----\n"
     ]
    },
    {
     "name": "stderr",
     "output_type": "stream",
     "text": [
      "\n"
     ]
    }
   ],
   "source": [
    "from refchecker import LLMExtractor\n",
    "\n",
    "# claim extraction\n",
    "extractor = LLMExtractor(\n",
    "    claim_format='triplet', \n",
    "    model='bedrock/anthropic.claude-3-sonnet-20240229-v1:0',\n",
    "    batch_size=8\n",
    ")\n",
    "\n",
    "# each element in claims is an instance of Claim\n",
    "extraction_results = extractor.extract(\n",
    "    batch_responses=[response1, response2],\n",
    "    max_new_tokens=1000\n",
    ")\n",
    "for i, res in enumerate(extraction_results):\n",
    "    print(f'Claims in Response {i+1}:')\n",
    "    for claim in res.claims:\n",
    "        print(claim.content)\n",
    "    print('----')"
   ]
  },
  {
   "cell_type": "code",
   "execution_count": 3,
   "metadata": {},
   "outputs": [
    {
     "name": "stderr",
     "output_type": "stream",
     "text": [
      "100%|██████████| 1/1 [00:01<00:00,  1.55s/it]"
     ]
    },
    {
     "name": "stdout",
     "output_type": "stream",
     "text": [
      "Checking results for Response 1:\n",
      "['The longest river in the world', 'is', 'the Nile River'] --> Contradiction\n",
      "['The Nile River', 'located in', 'northeastern Africa'] --> Entailment\n",
      "['The Nile River', 'stretches for', 'approximately 6,853 kilometers (4,258 miles)'] --> Entailment\n",
      "['The Nile River', 'has sources in', 'Burundi'] --> Entailment\n",
      "['The Nile River', 'has sources in', 'Rwanda'] --> Entailment\n",
      "['The Nile River', 'has sources in', 'Tanzania'] --> Entailment\n",
      "['The Nile River', 'has delta on', 'the Mediterranean Sea'] --> Entailment\n",
      "['The Nile River delta', 'located in', 'Egypt'] --> Entailment\n",
      "---\n",
      "Checking results for Response 2:\n",
      "['The longest river in the world', 'is', 'the Nile River'] --> Contradiction\n",
      "['the Nile River', 'flows', 'northward'] --> Entailment\n",
      "['the Nile River', 'flows through', 'northeastern Africa'] --> Entailment\n",
      "['the Nile River', 'has length of approximately', '6,650 kilometers (4,132 miles)'] --> Entailment\n",
      "['the Nile River', 'originates from', 'its most distant source in the African Great Lakes region'] --> Entailment\n",
      "['the Nile River', 'ends at', 'the Mediterranean Sea'] --> Entailment\n",
      "['the African Great Lakes region', 'is source of', 'the Nile River'] --> Entailment\n",
      "['the Mediterranean Sea', 'is destination of', 'the Nile River'] --> Entailment\n",
      "---\n"
     ]
    },
    {
     "name": "stderr",
     "output_type": "stream",
     "text": [
      "\n"
     ]
    }
   ],
   "source": [
    "from refchecker import LLMChecker\n",
    "\n",
    "checker = LLMChecker(model='bedrock/anthropic.claude-3-sonnet-20240229-v1:0')\n",
    "\n",
    "batch_claims = []\n",
    "for res in extraction_results:\n",
    "    batch_claims.append([claim.content for claim in res.claims])\n",
    "\n",
    "batch_reference = [reference] * len(batch_claims)\n",
    "\n",
    "checking_results = checker.check(\n",
    "    batch_claims=batch_claims,\n",
    "    batch_references=batch_reference,\n",
    "    max_reference_segment_length=0\n",
    ")\n",
    "\n",
    "for i, (extract_res, check_res) in enumerate(zip(extraction_results, checking_results)):\n",
    "    print(f'Checking results for Response {i+1}:')\n",
    "    for claim, pred_label in zip(extract_res.claims, check_res):\n",
    "        print(f'{claim.content} --> {pred_label}')\n",
    "    print('---')"
   ]
  }
 ],
 "metadata": {
  "kernelspec": {
   "display_name": "rc",
   "language": "python",
   "name": "python3"
  },
  "language_info": {
   "codemirror_mode": {
    "name": "ipython",
    "version": 3
   },
   "file_extension": ".py",
   "mimetype": "text/x-python",
   "name": "python",
   "nbconvert_exporter": "python",
   "pygments_lexer": "ipython3",
   "version": "3.10.14"
  }
 },
 "nbformat": 4,
 "nbformat_minor": 2
}
